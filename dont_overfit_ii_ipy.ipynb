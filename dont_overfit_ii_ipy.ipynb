{
  "nbformat": 4,
  "nbformat_minor": 0,
  "metadata": {
    "colab": {
      "name": "dont-overfit-ii.ipy",
      "version": "0.3.2",
      "provenance": [],
      "collapsed_sections": [],
      "include_colab_link": true
    },
    "kernelspec": {
      "name": "python3",
      "display_name": "Python 3"
    },
    "accelerator": "GPU"
  },
  "cells": [
    {
      "cell_type": "markdown",
      "metadata": {
        "id": "view-in-github",
        "colab_type": "text"
      },
      "source": [
        "<a href=\"https://colab.research.google.com/github/DarenAmbat/dont-overfit-ii-1/blob/master/dont_overfit_ii_ipy.ipynb\" target=\"_parent\"><img src=\"https://colab.research.google.com/assets/colab-badge.svg\" alt=\"Open In Colab\"/></a>"
      ]
    },
    {
      "metadata": {
        "id": "mbXyijMfouUB",
        "colab_type": "code",
        "outputId": "0a2f6357-e7a8-4139-d39d-40ddeb434d37",
        "colab": {
          "base_uri": "https://localhost:8080/",
          "height": 34
        }
      },
      "cell_type": "code",
      "source": [
        "from google.colab import drive\n",
        "drive.mount('/content/drive/')"
      ],
      "execution_count": 0,
      "outputs": [
        {
          "output_type": "stream",
          "text": [
            "Drive already mounted at /content/drive/; to attempt to forcibly remount, call drive.mount(\"/content/drive/\", force_remount=True).\n"
          ],
          "name": "stdout"
        }
      ]
    },
    {
      "metadata": {
        "id": "wh5i8deYpgcK",
        "colab_type": "code",
        "colab": {
          "base_uri": "https://localhost:8080/",
          "height": 50
        },
        "outputId": "16167423-8ed6-4b5f-fefb-158b4de66270"
      },
      "cell_type": "code",
      "source": [
        "!pip install -U -q PyDrive\n",
        "from pydrive.auth import GoogleAuth\n",
        "from pydrive.drive import GoogleDrive\n",
        "from google.colab import auth\n",
        "from oauth2client.client import GoogleCredentials\n",
        "# Authenticate and create the PyDrive client.\n",
        "auth.authenticate_user()\n",
        "gauth = GoogleAuth()\n",
        "gauth.credentials = GoogleCredentials.get_application_default()\n",
        "drive = GoogleDrive(gauth)\n",
        "\n",
        "import pandas as pd\n",
        "#uploaded = files.upload()"
      ],
      "execution_count": 1,
      "outputs": [
        {
          "output_type": "stream",
          "text": [
            "\u001b[?25l\r\u001b[K    1% |▎                               | 10kB 17.0MB/s eta 0:00:01\r\u001b[K    2% |▋                               | 20kB 1.7MB/s eta 0:00:01\r\u001b[K    3% |█                               | 30kB 2.5MB/s eta 0:00:01\r\u001b[K    4% |█▎                              | 40kB 1.7MB/s eta 0:00:01\r\u001b[K    5% |█▋                              | 51kB 2.1MB/s eta 0:00:01\r\u001b[K    6% |██                              | 61kB 2.5MB/s eta 0:00:01\r\u001b[K    7% |██▎                             | 71kB 2.9MB/s eta 0:00:01\r\u001b[K    8% |██▋                             | 81kB 3.2MB/s eta 0:00:01\r\u001b[K    9% |███                             | 92kB 3.6MB/s eta 0:00:01\r\u001b[K    10% |███▎                            | 102kB 2.8MB/s eta 0:00:01\r\u001b[K    11% |███▋                            | 112kB 2.8MB/s eta 0:00:01\r\u001b[K    12% |████                            | 122kB 4.0MB/s eta 0:00:01\r\u001b[K    13% |████▎                           | 133kB 4.0MB/s eta 0:00:01\r\u001b[K    14% |████▋                           | 143kB 7.5MB/s eta 0:00:01\r\u001b[K    15% |█████                           | 153kB 7.4MB/s eta 0:00:01\r\u001b[K    16% |█████▎                          | 163kB 7.4MB/s eta 0:00:01\r\u001b[K    17% |█████▋                          | 174kB 7.4MB/s eta 0:00:01\r\u001b[K    18% |██████                          | 184kB 7.5MB/s eta 0:00:01\r\u001b[K    19% |██████▎                         | 194kB 7.5MB/s eta 0:00:01\r\u001b[K    20% |██████▋                         | 204kB 35.7MB/s eta 0:00:01\r\u001b[K    21% |███████                         | 215kB 8.3MB/s eta 0:00:01\r\u001b[K    22% |███████▎                        | 225kB 8.3MB/s eta 0:00:01\r\u001b[K    23% |███████▋                        | 235kB 8.3MB/s eta 0:00:01\r\u001b[K    24% |████████                        | 245kB 8.4MB/s eta 0:00:01\r\u001b[K    25% |████████▎                       | 256kB 8.4MB/s eta 0:00:01\r\u001b[K    26% |████████▋                       | 266kB 8.2MB/s eta 0:00:01\r\u001b[K    27% |█████████                       | 276kB 8.3MB/s eta 0:00:01\r\u001b[K    29% |█████████▎                      | 286kB 8.3MB/s eta 0:00:01\r\u001b[K    30% |█████████▋                      | 296kB 8.3MB/s eta 0:00:01\r\u001b[K    31% |██████████                      | 307kB 8.6MB/s eta 0:00:01\r\u001b[K    32% |██████████▎                     | 317kB 43.3MB/s eta 0:00:01\r\u001b[K    33% |██████████▋                     | 327kB 44.1MB/s eta 0:00:01\r\u001b[K    34% |███████████                     | 337kB 44.0MB/s eta 0:00:01\r\u001b[K    35% |███████████▎                    | 348kB 40.0MB/s eta 0:00:01\r\u001b[K    36% |███████████▋                    | 358kB 40.3MB/s eta 0:00:01\r\u001b[K    37% |████████████                    | 368kB 44.7MB/s eta 0:00:01\r\u001b[K    38% |████████████▎                   | 378kB 44.8MB/s eta 0:00:01\r\u001b[K    39% |████████████▋                   | 389kB 45.8MB/s eta 0:00:01\r\u001b[K    40% |█████████████                   | 399kB 9.5MB/s eta 0:00:01\r\u001b[K    41% |█████████████▎                  | 409kB 9.4MB/s eta 0:00:01\r\u001b[K    42% |█████████████▋                  | 419kB 9.4MB/s eta 0:00:01\r\u001b[K    43% |██████████████                  | 430kB 9.3MB/s eta 0:00:01\r\u001b[K    44% |██████████████▎                 | 440kB 9.4MB/s eta 0:00:01\r\u001b[K    45% |██████████████▋                 | 450kB 9.6MB/s eta 0:00:01\r\u001b[K    46% |███████████████                 | 460kB 9.5MB/s eta 0:00:01\r\u001b[K    47% |███████████████▎                | 471kB 9.5MB/s eta 0:00:01\r\u001b[K    48% |███████████████▋                | 481kB 9.4MB/s eta 0:00:01\r\u001b[K    49% |████████████████                | 491kB 9.4MB/s eta 0:00:01\r\u001b[K    50% |████████████████▎               | 501kB 44.4MB/s eta 0:00:01\r\u001b[K    51% |████████████████▋               | 512kB 44.7MB/s eta 0:00:01\r\u001b[K    52% |█████████████████               | 522kB 44.6MB/s eta 0:00:01\r\u001b[K    53% |█████████████████▎              | 532kB 44.6MB/s eta 0:00:01\r\u001b[K    54% |█████████████████▋              | 542kB 9.0MB/s eta 0:00:01\r\u001b[K    55% |██████████████████              | 552kB 9.0MB/s eta 0:00:01\r\u001b[K    57% |██████████████████▎             | 563kB 9.0MB/s eta 0:00:01\r\u001b[K    58% |██████████████████▋             | 573kB 9.0MB/s eta 0:00:01\r\u001b[K    59% |███████████████████             | 583kB 9.0MB/s eta 0:00:01\r\u001b[K    60% |███████████████████▎            | 593kB 9.0MB/s eta 0:00:01\r\u001b[K    61% |███████████████████▋            | 604kB 9.0MB/s eta 0:00:01\r\u001b[K    62% |████████████████████            | 614kB 9.1MB/s eta 0:00:01\r\u001b[K    63% |████████████████████▎           | 624kB 9.1MB/s eta 0:00:01\r\u001b[K    64% |████████████████████▋           | 634kB 9.1MB/s eta 0:00:01\r\u001b[K    65% |█████████████████████           | 645kB 44.8MB/s eta 0:00:01\r\u001b[K    66% |█████████████████████▎          | 655kB 47.2MB/s eta 0:00:01\r\u001b[K    67% |█████████████████████▋          | 665kB 39.8MB/s eta 0:00:01\r\u001b[K    68% |██████████████████████          | 675kB 39.7MB/s eta 0:00:01\r\u001b[K    69% |██████████████████████▎         | 686kB 40.1MB/s eta 0:00:01\r\u001b[K    70% |██████████████████████▋         | 696kB 40.1MB/s eta 0:00:01\r\u001b[K    71% |███████████████████████         | 706kB 39.8MB/s eta 0:00:01\r\u001b[K    72% |███████████████████████▎        | 716kB 40.5MB/s eta 0:00:01\r\u001b[K    73% |███████████████████████▋        | 727kB 40.0MB/s eta 0:00:01\r\u001b[K    74% |████████████████████████        | 737kB 39.9MB/s eta 0:00:01\r\u001b[K    75% |████████████████████████▎       | 747kB 41.3MB/s eta 0:00:01\r\u001b[K    76% |████████████████████████▋       | 757kB 41.3MB/s eta 0:00:01\r\u001b[K    77% |████████████████████████▉       | 768kB 51.5MB/s eta 0:00:01\r\u001b[K    78% |█████████████████████████▏      | 778kB 50.6MB/s eta 0:00:01\r\u001b[K    79% |█████████████████████████▌      | 788kB 50.0MB/s eta 0:00:01\r\u001b[K    80% |█████████████████████████▉      | 798kB 50.6MB/s eta 0:00:01\r\u001b[K    81% |██████████████████████████▏     | 808kB 50.9MB/s eta 0:00:01\r\u001b[K    82% |██████████████████████████▌     | 819kB 50.8MB/s eta 0:00:01\r\u001b[K    83% |██████████████████████████▉     | 829kB 52.4MB/s eta 0:00:01\r\u001b[K    85% |███████████████████████████▏    | 839kB 51.7MB/s eta 0:00:01\r\u001b[K    86% |███████████████████████████▌    | 849kB 51.8MB/s eta 0:00:01\r\u001b[K    87% |███████████████████████████▉    | 860kB 47.9MB/s eta 0:00:01\r\u001b[K    88% |████████████████████████████▏   | 870kB 47.6MB/s eta 0:00:01\r\u001b[K    89% |████████████████████████████▌   | 880kB 49.1MB/s eta 0:00:01\r\u001b[K    90% |████████████████████████████▉   | 890kB 49.2MB/s eta 0:00:01\r\u001b[K    91% |█████████████████████████████▏  | 901kB 49.1MB/s eta 0:00:01\r\u001b[K    92% |█████████████████████████████▌  | 911kB 49.1MB/s eta 0:00:01\r\u001b[K    93% |█████████████████████████████▉  | 921kB 49.4MB/s eta 0:00:01\r\u001b[K    94% |██████████████████████████████▏ | 931kB 49.3MB/s eta 0:00:01\r\u001b[K    95% |██████████████████████████████▌ | 942kB 49.6MB/s eta 0:00:01\r\u001b[K    96% |██████████████████████████████▉ | 952kB 48.9MB/s eta 0:00:01\r\u001b[K    97% |███████████████████████████████▏| 962kB 53.4MB/s eta 0:00:01\r\u001b[K    98% |███████████████████████████████▌| 972kB 53.8MB/s eta 0:00:01\r\u001b[K    99% |███████████████████████████████▉| 983kB 53.8MB/s eta 0:00:01\r\u001b[K    100% |████████████████████████████████| 993kB 20.1MB/s \n",
            "\u001b[?25h  Building wheel for PyDrive (setup.py) ... \u001b[?25ldone\n",
            "\u001b[?25h"
          ],
          "name": "stdout"
        }
      ]
    },
    {
      "metadata": {
        "id": "mUTHghIHr41K",
        "colab_type": "code",
        "outputId": "bfc216c7-1dce-44fb-c77a-df8e73639263",
        "colab": {
          "base_uri": "https://localhost:8080/",
          "height": 34
        }
      },
      "cell_type": "code",
      "source": [
        "link = 'https://drive.google.com/open?id=1Fii_Uiey7IJRUPDQngr7q-RGwJ5W80PC'\n",
        "\n",
        "fluff, id = link.split('=')\n",
        "print (id) # Verify that you have everything after '='\n",
        "\n",
        "downloaded = drive.CreateFile({'id':id}) \n",
        "downloaded.GetContentFile('train.csv')  \n",
        "df3 = pd.read_csv('train.csv')\n",
        "# Dataset is now stored in a Pandas Dataframe"
      ],
      "execution_count": 2,
      "outputs": [
        {
          "output_type": "stream",
          "text": [
            "1Fii_Uiey7IJRUPDQngr7q-RGwJ5W80PC\n"
          ],
          "name": "stdout"
        }
      ]
    },
    {
      "metadata": {
        "id": "g7911H2xsayr",
        "colab_type": "code",
        "outputId": "07cf7a3e-f713-4bc8-c42b-0a59a04f5cd6",
        "colab": {
          "base_uri": "https://localhost:8080/",
          "height": 34
        }
      },
      "cell_type": "code",
      "source": [
        "link = 'https://drive.google.com/open?id=1k73Kg-TyhSgqzmCE_9__7bw8HeTp6Jia'\n",
        "\n",
        "fluff, id = link.split('=')\n",
        "print (id) # Verify that you have everything after '='\n",
        "\n",
        "downloaded = drive.CreateFile({'id':id}) \n",
        "downloaded.GetContentFile('test.csv')  \n",
        "df3 = pd.read_csv('test.csv')"
      ],
      "execution_count": 3,
      "outputs": [
        {
          "output_type": "stream",
          "text": [
            "1k73Kg-TyhSgqzmCE_9__7bw8HeTp6Jia\n"
          ],
          "name": "stdout"
        }
      ]
    },
    {
      "metadata": {
        "id": "7p9SloZ70rSs",
        "colab_type": "code",
        "outputId": "8ebc8380-52d6-4ffd-d1ab-789cde35a23f",
        "colab": {
          "base_uri": "https://localhost:8080/",
          "height": 2523
        }
      },
      "cell_type": "code",
      "source": [
        "\n",
        "from __future__ import absolute_import\n",
        "from __future__ import division\n",
        "from __future__ import print_function\n",
        "\n",
        "import numpy as np\n",
        "from keras.models import Sequential\n",
        "from keras.layers import Activation, Dense, Dropout\n",
        "from keras.layers import Conv2D, MaxPooling2D, Flatten\n",
        "from keras.utils import to_categorical, plot_model\n",
        "from keras.datasets import mnist\n",
        "import keras\n",
        "import tensorflow as tf\n",
        "\n",
        "import csv\n",
        "# load mnist dataset\n",
        "# (x_train, y_train), (x_test, y_test) = mnist.load_data()\n",
        "\n",
        "# print(\"wewe\")\n",
        "\n",
        "f = open('train.csv', 'r')\n",
        "reader = csv.reader(f)\n",
        "\n",
        "\n",
        "train_array = []\n",
        "train_label = []\n",
        "\n",
        "ctr = 0\n",
        "for row in reader:\n",
        "    if(ctr):\n",
        "        train_label.append(int(float(row[1])))\n",
        "        row.pop(0)\n",
        "        row.pop(0)\n",
        "        # print(len(row))\n",
        "        train_array.append([float(i) for i in row])\n",
        "        # break\n",
        "    ctr += 1\n",
        "f.close()\n",
        "\n",
        "x_train = np.asarray(train_array)\n",
        "y_train = np.asarray(train_label)\n",
        "\n",
        "print(x_train.shape)\n",
        "print(y_train.shape)\n",
        "\n",
        "\n",
        "print(x_train[0].shape)\n",
        "\n",
        "# exit()\n",
        "\n",
        "# get test\n",
        "f = open('test.csv', 'r')\n",
        "reader = csv.reader(f)\n",
        "\n",
        "\n",
        "test_array = []\n",
        "test_label = []\n",
        "\n",
        "ctr = 0\n",
        "for row in reader:\n",
        "    if(ctr):\n",
        "        test_label.append(int(float(row[0])))\n",
        "        row.pop(0)\n",
        "        test_array.append([float(i) for i in row])\n",
        "    ctr += 1\n",
        "f.close()\n",
        "\n",
        "x_test = np.asarray(test_array)\n",
        "y_test = np.asarray(test_label)\n",
        "\n",
        "print(x_test.shape)\n",
        "print(y_test.shape)\n",
        "\n",
        "\n",
        "\n",
        "\n",
        "\n",
        "\n",
        "\n",
        "\n",
        "\n",
        "model_mlp = keras.Sequential([\n",
        "    #keras.layers.Flatten(input_shape=(300, )),\n",
        "    keras.layers.Dense(512, activation=tf.nn.relu, input_shape=(300, )),\n",
        "    keras.layers.Dropout(0.3),\n",
        "    keras.layers.Dense(512, activation=tf.nn.relu),\n",
        "    keras.layers.Dropout(0.3),\n",
        "    keras.layers.Dense(512, activation=tf.nn.relu),\n",
        "    keras.layers.Dropout(0.3),\n",
        "    keras.layers.Dense(512, activation=tf.nn.relu),\n",
        "    keras.layers.Dropout(0.3),\n",
        "    keras.layers.Dense(512, activation=tf.nn.relu),\n",
        "    keras.layers.Dropout(0.3),\n",
        "    keras.layers.Dense(512, activation=tf.nn.relu),\n",
        "    keras.layers.Dropout(0.3),\n",
        "    keras.layers.Dense(1, activation=tf.nn.sigmoid)\n",
        "])\n",
        "\n",
        "model_mlp.compile(optimizer='sgd', \n",
        "              loss='binary_crossentropy',\n",
        "              metrics=['accuracy', 'binary_crossentropy'])\n",
        "\n",
        "model_mlp.summary()\n",
        "\n",
        "\n",
        "model_mlp.fit(x_train, y_train, epochs=50, batch_size=25)\n",
        "\n",
        "\n",
        "res = model_mlp.predict(x_test)\n",
        "\n",
        "with open('sub2.csv', \"w\",  newline='') as csv_file:\n",
        "        writer = csv.writer(csv_file, delimiter=',')\n",
        "        writer.writerow(('id', 'target'))\n",
        "        for (x, y) in zip(y_test, res):\n",
        "            if y[0] >= 0.5:\n",
        "                targ = 1\n",
        "            else:\n",
        "                targ = 0\n",
        "            writer.writerow((x,targ))\n",
        "\n",
        "exit() "
      ],
      "execution_count": 0,
      "outputs": [
        {
          "output_type": "stream",
          "text": [
            "Using TensorFlow backend.\n"
          ],
          "name": "stderr"
        },
        {
          "output_type": "stream",
          "text": [
            "(250, 300)\n",
            "(250,)\n",
            "(300,)\n",
            "(19750, 300)\n",
            "(19750,)\n",
            "WARNING:tensorflow:From /usr/local/lib/python3.6/dist-packages/tensorflow/python/framework/op_def_library.py:263: colocate_with (from tensorflow.python.framework.ops) is deprecated and will be removed in a future version.\n",
            "Instructions for updating:\n",
            "Colocations handled automatically by placer.\n",
            "WARNING:tensorflow:From /usr/local/lib/python3.6/dist-packages/keras/backend/tensorflow_backend.py:3445: calling dropout (from tensorflow.python.ops.nn_ops) with keep_prob is deprecated and will be removed in a future version.\n",
            "Instructions for updating:\n",
            "Please use `rate` instead of `keep_prob`. Rate should be set to `rate = 1 - keep_prob`.\n",
            "_________________________________________________________________\n",
            "Layer (type)                 Output Shape              Param #   \n",
            "=================================================================\n",
            "dense_1 (Dense)              (None, 512)               154112    \n",
            "_________________________________________________________________\n",
            "dropout_1 (Dropout)          (None, 512)               0         \n",
            "_________________________________________________________________\n",
            "dense_2 (Dense)              (None, 512)               262656    \n",
            "_________________________________________________________________\n",
            "dropout_2 (Dropout)          (None, 512)               0         \n",
            "_________________________________________________________________\n",
            "dense_3 (Dense)              (None, 512)               262656    \n",
            "_________________________________________________________________\n",
            "dropout_3 (Dropout)          (None, 512)               0         \n",
            "_________________________________________________________________\n",
            "dense_4 (Dense)              (None, 512)               262656    \n",
            "_________________________________________________________________\n",
            "dropout_4 (Dropout)          (None, 512)               0         \n",
            "_________________________________________________________________\n",
            "dense_5 (Dense)              (None, 512)               262656    \n",
            "_________________________________________________________________\n",
            "dropout_5 (Dropout)          (None, 512)               0         \n",
            "_________________________________________________________________\n",
            "dense_6 (Dense)              (None, 512)               262656    \n",
            "_________________________________________________________________\n",
            "dropout_6 (Dropout)          (None, 512)               0         \n",
            "_________________________________________________________________\n",
            "dense_7 (Dense)              (None, 1)                 513       \n",
            "=================================================================\n",
            "Total params: 1,467,905\n",
            "Trainable params: 1,467,905\n",
            "Non-trainable params: 0\n",
            "_________________________________________________________________\n",
            "WARNING:tensorflow:From /usr/local/lib/python3.6/dist-packages/tensorflow/python/ops/math_ops.py:3066: to_int32 (from tensorflow.python.ops.math_ops) is deprecated and will be removed in a future version.\n",
            "Instructions for updating:\n",
            "Use tf.cast instead.\n",
            "Epoch 1/50\n",
            "250/250 [==============================] - 1s 5ms/step - loss: 0.7104 - acc: 0.4960 - binary_crossentropy: 0.7104\n",
            "Epoch 2/50\n",
            "250/250 [==============================] - 0s 282us/step - loss: 0.6881 - acc: 0.5840 - binary_crossentropy: 0.6881\n",
            "Epoch 3/50\n",
            "250/250 [==============================] - 0s 296us/step - loss: 0.6657 - acc: 0.6240 - binary_crossentropy: 0.6657\n",
            "Epoch 4/50\n",
            "250/250 [==============================] - 0s 294us/step - loss: 0.6736 - acc: 0.6240 - binary_crossentropy: 0.6736\n",
            "Epoch 5/50\n",
            "250/250 [==============================] - 0s 285us/step - loss: 0.6597 - acc: 0.6520 - binary_crossentropy: 0.6597\n",
            "Epoch 6/50\n",
            "250/250 [==============================] - 0s 289us/step - loss: 0.6560 - acc: 0.6280 - binary_crossentropy: 0.6560\n",
            "Epoch 7/50\n",
            "250/250 [==============================] - 0s 286us/step - loss: 0.6870 - acc: 0.6120 - binary_crossentropy: 0.6870\n",
            "Epoch 8/50\n",
            "250/250 [==============================] - 0s 306us/step - loss: 0.6682 - acc: 0.6520 - binary_crossentropy: 0.6682\n",
            "Epoch 9/50\n",
            "250/250 [==============================] - 0s 287us/step - loss: 0.6665 - acc: 0.6280 - binary_crossentropy: 0.6665\n",
            "Epoch 10/50\n",
            "250/250 [==============================] - 0s 287us/step - loss: 0.6653 - acc: 0.6200 - binary_crossentropy: 0.6653\n",
            "Epoch 11/50\n",
            "250/250 [==============================] - 0s 284us/step - loss: 0.6638 - acc: 0.6440 - binary_crossentropy: 0.6638\n",
            "Epoch 12/50\n",
            "250/250 [==============================] - 0s 273us/step - loss: 0.6534 - acc: 0.6320 - binary_crossentropy: 0.6534\n",
            "Epoch 13/50\n",
            "250/250 [==============================] - 0s 259us/step - loss: 0.6637 - acc: 0.6200 - binary_crossentropy: 0.6637\n",
            "Epoch 14/50\n",
            "250/250 [==============================] - 0s 302us/step - loss: 0.6402 - acc: 0.6240 - binary_crossentropy: 0.6402\n",
            "Epoch 15/50\n",
            "250/250 [==============================] - 0s 288us/step - loss: 0.6570 - acc: 0.6200 - binary_crossentropy: 0.6570\n",
            "Epoch 16/50\n",
            "250/250 [==============================] - 0s 278us/step - loss: 0.6674 - acc: 0.6360 - binary_crossentropy: 0.6674\n",
            "Epoch 17/50\n",
            "250/250 [==============================] - 0s 285us/step - loss: 0.6477 - acc: 0.6480 - binary_crossentropy: 0.6477\n",
            "Epoch 18/50\n",
            "250/250 [==============================] - 0s 281us/step - loss: 0.6716 - acc: 0.6280 - binary_crossentropy: 0.6716\n",
            "Epoch 19/50\n",
            "250/250 [==============================] - 0s 285us/step - loss: 0.6489 - acc: 0.6240 - binary_crossentropy: 0.6489\n",
            "Epoch 20/50\n",
            "250/250 [==============================] - 0s 261us/step - loss: 0.6714 - acc: 0.6280 - binary_crossentropy: 0.6714\n",
            "Epoch 21/50\n",
            "250/250 [==============================] - 0s 294us/step - loss: 0.6479 - acc: 0.6480 - binary_crossentropy: 0.6479\n",
            "Epoch 22/50\n",
            "250/250 [==============================] - 0s 333us/step - loss: 0.6455 - acc: 0.6360 - binary_crossentropy: 0.6455\n",
            "Epoch 23/50\n",
            "250/250 [==============================] - 0s 283us/step - loss: 0.6375 - acc: 0.6360 - binary_crossentropy: 0.6375\n",
            "Epoch 24/50\n",
            "250/250 [==============================] - 0s 288us/step - loss: 0.6341 - acc: 0.6480 - binary_crossentropy: 0.6341\n",
            "Epoch 25/50\n",
            "250/250 [==============================] - 0s 279us/step - loss: 0.6497 - acc: 0.6280 - binary_crossentropy: 0.6497\n",
            "Epoch 26/50\n",
            "250/250 [==============================] - 0s 256us/step - loss: 0.6490 - acc: 0.6520 - binary_crossentropy: 0.6490\n",
            "Epoch 27/50\n",
            "250/250 [==============================] - 0s 289us/step - loss: 0.6597 - acc: 0.6320 - binary_crossentropy: 0.6597\n",
            "Epoch 28/50\n",
            "250/250 [==============================] - 0s 297us/step - loss: 0.6555 - acc: 0.6360 - binary_crossentropy: 0.6555\n",
            "Epoch 29/50\n",
            "250/250 [==============================] - 0s 286us/step - loss: 0.6372 - acc: 0.6560 - binary_crossentropy: 0.6372\n",
            "Epoch 30/50\n",
            "250/250 [==============================] - 0s 296us/step - loss: 0.6552 - acc: 0.6360 - binary_crossentropy: 0.6552\n",
            "Epoch 31/50\n",
            "250/250 [==============================] - 0s 283us/step - loss: 0.6556 - acc: 0.6400 - binary_crossentropy: 0.6556\n",
            "Epoch 32/50\n",
            "250/250 [==============================] - 0s 285us/step - loss: 0.6466 - acc: 0.6480 - binary_crossentropy: 0.6466\n",
            "Epoch 33/50\n",
            "250/250 [==============================] - 0s 287us/step - loss: 0.6365 - acc: 0.6360 - binary_crossentropy: 0.6365\n",
            "Epoch 34/50\n",
            "250/250 [==============================] - 0s 287us/step - loss: 0.6481 - acc: 0.6280 - binary_crossentropy: 0.6481\n",
            "Epoch 35/50\n",
            "250/250 [==============================] - 0s 280us/step - loss: 0.6497 - acc: 0.6480 - binary_crossentropy: 0.6497\n",
            "Epoch 36/50\n",
            "250/250 [==============================] - 0s 328us/step - loss: 0.6320 - acc: 0.6480 - binary_crossentropy: 0.6320\n",
            "Epoch 37/50\n",
            "250/250 [==============================] - 0s 279us/step - loss: 0.6286 - acc: 0.6520 - binary_crossentropy: 0.6286\n",
            "Epoch 38/50\n",
            "250/250 [==============================] - 0s 285us/step - loss: 0.6369 - acc: 0.6560 - binary_crossentropy: 0.6369\n",
            "Epoch 39/50\n",
            "250/250 [==============================] - 0s 283us/step - loss: 0.6262 - acc: 0.6440 - binary_crossentropy: 0.6262\n",
            "Epoch 40/50\n",
            "250/250 [==============================] - 0s 293us/step - loss: 0.6389 - acc: 0.6520 - binary_crossentropy: 0.6389\n",
            "Epoch 41/50\n",
            "250/250 [==============================] - 0s 287us/step - loss: 0.6266 - acc: 0.6360 - binary_crossentropy: 0.6266\n",
            "Epoch 42/50\n",
            "250/250 [==============================] - 0s 279us/step - loss: 0.6365 - acc: 0.6200 - binary_crossentropy: 0.6365\n",
            "Epoch 43/50\n",
            "250/250 [==============================] - 0s 289us/step - loss: 0.6488 - acc: 0.6280 - binary_crossentropy: 0.6488\n",
            "Epoch 44/50\n",
            "250/250 [==============================] - 0s 283us/step - loss: 0.6380 - acc: 0.6440 - binary_crossentropy: 0.6380\n",
            "Epoch 45/50\n",
            "250/250 [==============================] - 0s 284us/step - loss: 0.6283 - acc: 0.6520 - binary_crossentropy: 0.6283\n",
            "Epoch 46/50\n",
            "250/250 [==============================] - 0s 285us/step - loss: 0.6237 - acc: 0.6440 - binary_crossentropy: 0.6237\n",
            "Epoch 47/50\n",
            "250/250 [==============================] - 0s 287us/step - loss: 0.6292 - acc: 0.6520 - binary_crossentropy: 0.6292\n",
            "Epoch 48/50\n",
            "250/250 [==============================] - 0s 279us/step - loss: 0.6303 - acc: 0.6400 - binary_crossentropy: 0.6303\n",
            "Epoch 49/50\n",
            "250/250 [==============================] - 0s 254us/step - loss: 0.6344 - acc: 0.6320 - binary_crossentropy: 0.6344\n",
            "Epoch 50/50\n",
            "250/250 [==============================] - 0s 323us/step - loss: 0.5960 - acc: 0.6600 - binary_crossentropy: 0.5960\n"
          ],
          "name": "stdout"
        }
      ]
    }
  ]
}